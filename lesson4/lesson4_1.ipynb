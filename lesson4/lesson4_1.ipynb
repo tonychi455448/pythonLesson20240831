{
 "cells": [
  {
   "cell_type": "code",
   "execution_count": 2,
   "metadata": {},
   "outputs": [],
   "source": [
    "#if"
   ]
  },
  {
   "cell_type": "code",
   "execution_count": 1,
   "metadata": {},
   "outputs": [
    {
     "data": {
      "text/plain": [
       "'0b11'"
      ]
     },
     "execution_count": 1,
     "metadata": {},
     "output_type": "execute_result"
    }
   ],
   "source": [
    "bin(3)"
   ]
  },
  {
   "cell_type": "code",
   "execution_count": 25,
   "metadata": {},
   "outputs": [
    {
     "name": "stdout",
     "output_type": "stream",
     "text": [
      "錯誤訊息輸入數字大於300分!\n",
      "結束程式\n"
     ]
    }
   ],
   "source": [
    "try:\n",
    "    score=int(input(\"請輸入學生成績:(最高300分)\"))\n",
    "    if score>300:\n",
    "        raise Exception(\"輸入數字大於300分!\")\n",
    "except ValueError:\n",
    "    print(\"輸入錯誤\")\n",
    "except Exception as e:\n",
    "    print(f\"錯誤訊息:{e}\")\n",
    "else:\n",
    "    is_add=input(\"是否符合加分條件?(y/n)\")\n",
    "\n",
    "    if is_add=='y':\n",
    "     score*=1.05\n",
    "\n",
    "    if score>300:\n",
    "        score=300\n",
    "\n",
    "    #print( \"學生成績:\"+str(score)) #字串相加\n",
    "    print( f\"學生成績{score}\") #字串相加\n",
    "print(\"結束程式\")"
   ]
  },
  {
   "cell_type": "code",
   "execution_count": 26,
   "metadata": {},
   "outputs": [
    {
     "name": "stdout",
     "output_type": "stream",
     "text": [
      "請輸入收縮壓:80\n",
      "請輸入舒張壓:20\n",
      "正常\n"
     ]
    }
   ],
   "source": [
    "import pyinputplus as pyip\n",
    "sbp = pyip.inputInt(prompt=\"請輸入收縮壓:\")\n",
    "print(sbp)\n",
    "dbp = pyip.inputInt(prompt=\"請輸入舒張壓:\")\n",
    "print(dbp)\n",
    "\n",
    "status = \"\"\n",
    "if sbp < 120 and dbp<80:\n",
    "    status = \"正常\"\n",
    "elif sbp < 130 and dbp<80:\n",
    "    status = '血壓升高'\n",
    "elif sbp >= 130 and dbp < 80:\n",
    "    status = '單純收縮期高血壓'\n",
    "elif sbp < 140 or (dbp>=80 and dbp<90):\n",
    "    status = '高血壓一期'\n",
    "elif sbp >= 140 or dbp >= 90:\n",
    "    status = '高血壓二期'\n",
    "    \n",
    "\n",
    "print(status)\n",
    "\n",
    "\n"
   ]
  },
  {
   "cell_type": "code",
   "execution_count": 3,
   "metadata": {},
   "outputs": [
    {
     "name": "stdout",
     "output_type": "stream",
     "text": [
      "hello\n"
     ]
    }
   ],
   "source": [
    "print(\"hello\")"
   ]
  }
 ],
 "metadata": {
  "kernelspec": {
   "display_name": "venv1",
   "language": "python",
   "name": "python3"
  },
  "language_info": {
   "codemirror_mode": {
    "name": "ipython",
    "version": 3
   },
   "file_extension": ".py",
   "mimetype": "text/x-python",
   "name": "python",
   "nbconvert_exporter": "python",
   "pygments_lexer": "ipython3",
   "version": "3.11.9"
  }
 },
 "nbformat": 4,
 "nbformat_minor": 2
}
